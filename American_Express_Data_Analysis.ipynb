{
  "nbformat": 4,
  "nbformat_minor": 0,
  "metadata": {
    "colab": {
      "provenance": [],
      "authorship_tag": "ABX9TyNy9Rtm/zHFF8q116RGn9wG",
      "include_colab_link": true
    },
    "kernelspec": {
      "name": "python3",
      "display_name": "Python 3"
    },
    "language_info": {
      "name": "python"
    }
  },
  "cells": [
    {
      "cell_type": "markdown",
      "metadata": {
        "id": "view-in-github",
        "colab_type": "text"
      },
      "source": [
        "<a href=\"https://colab.research.google.com/github/aditi2259/American-Express-Data-Analysis/blob/main/American_Express_Data_Analysis.ipynb\" target=\"_parent\"><img src=\"https://colab.research.google.com/assets/colab-badge.svg\" alt=\"Open In Colab\"/></a>"
      ]
    },
    {
      "cell_type": "code",
      "execution_count": null,
      "metadata": {
        "id": "qlG6eowpmeIL"
      },
      "outputs": [],
      "source": [
        "import numpy as np\n",
        "import matplotlib.pyplot as plt\n",
        "import pandas as pd\n"
      ]
    },
    {
      "cell_type": "code",
      "source": [
        "df=pd.read_csv('/content/covid_old.csv')"
      ],
      "metadata": {
        "id": "bHpS1VXUoDny"
      },
      "execution_count": null,
      "outputs": []
    },
    {
      "cell_type": "code",
      "source": [
        "X= df.iloc[:,:-2].values\n",
        "y= df.iloc[:,-2].values\n"
      ],
      "metadata": {
        "id": "JZm6XDjYqHBg"
      },
      "execution_count": null,
      "outputs": []
    },
    {
      "cell_type": "code",
      "source": [
        "print(X)"
      ],
      "metadata": {
        "colab": {
          "base_uri": "https://localhost:8080/"
        },
        "id": "4K7GTfo1b1JX",
        "outputId": "06b73320-07bf-4439-bd44-2bd3f18f2069"
      },
      "execution_count": null,
      "outputs": [
        {
          "output_type": "stream",
          "name": "stdout",
          "text": [
            "[[10.0 'Normal' 'no' 'no' 97.0]\n",
            " [12.0 'Normal' 'no' 'no' 97.0]\n",
            " [15.0 'Normal' 'no' 'no' 94.0]\n",
            " [10.0 'Normal' 'no' 'no' 97.0]\n",
            " [13.0 'Moderate' 'no' 'no' 94.0]\n",
            " [12.0 'Moderate' 'no' 'no' 97.0]\n",
            " [13.0 'Moderate' 'no' 'no' 93.0]\n",
            " [15.0 'Moderate' 'no' 'no' 92.0]\n",
            " [18.0 'Moderate' 'no' 'no' 66.0]\n",
            " [19.0 'Normal' 'no' 'no' 92.0]\n",
            " [20.0 'Normal' 'no' 'no' 93.0]\n",
            " [17.0 'Normal' 'no' 'no' 93.0]\n",
            " [16.0 'Normal' 'no' 'no' 92.0]\n",
            " [18.0 'Normal' 'no' 'no' 93.0]\n",
            " [20.0 'Normal' 'no' 'no' 92.0]\n",
            " [25.0 'Moderate' 'no' 'no' 93.0]\n",
            " [24.0 'Moderate' 'no' 'no' 92.0]\n",
            " [26.0 'High' 'no' 'no' 94.0]\n",
            " [28.0 'Normal' 'no' 'no' 99.0]\n",
            " [29.0 'Normal' 'no' 'no' 93.0]\n",
            " [30.0 'Moderate' 'no' 'no' 62.0]\n",
            " [19.0 'Normal' 'no' 'no' 89.0]\n",
            " [25.0 'Normal' 'no' 'yes' 86.0]\n",
            " [26.0 'Normal' 'no' 'no' nan]\n",
            " [28.0 'Normal' 'no' 'no' 89.0]\n",
            " [30.0 'Moderate' 'yes' 'no' 86.0]\n",
            " [35.0 'Moderate' 'no' 'no' 89.0]\n",
            " [32.0 'Moderate' 'no' 'yes' 84.0]\n",
            " [nan 'Moderate' 'yes' 'no' 90.0]\n",
            " [32.0 'Moderate' 'no' 'no' 89.0]\n",
            " [35.0 'Moderate' 'no' 'yes' 92.0]\n",
            " [38.0 'High' 'no' 'no' 75.0]\n",
            " [40.0 'Moderate' 'no' 'yes' 90.0]\n",
            " [46.0 'High' 'yes' 'no' 91.0]\n",
            " [48.0 'Moderate' 'no' 'yes' 93.0]\n",
            " [42.0 'High' 'no' 'no' 92.0]\n",
            " [40.0 'High' 'no' 'no' 92.0]\n",
            " [49.0 'Moderate' 'no' 'no' 80.0]\n",
            " [50.0 'High' 'yes' 'yes' 77.0]\n",
            " [36.0 'High' 'yes' 'no' 90.0]\n",
            " [52.0 'High' 'yes' 'yes' 80.0]\n",
            " [56.0 'High' 'yes' 'yes' 77.0]\n",
            " [58.0 'High' 'no' 'no' 70.0]\n",
            " [59.0 'High' 'no' 'yes' 69.0]\n",
            " [60.0 'High' 'yes' 'yes' 68.0]\n",
            " [53.0 'High' 'yes' 'no' 55.0]\n",
            " [54.0 'High' 'yes' 'yes' 70.0]\n",
            " [62.0 'High' 'yes' 'yes' 68.0]\n",
            " [63.0 'High' 'yes' 'yes' 66.0]\n",
            " [68.0 'High' 'yes' 'no' 67.0]\n",
            " [69.0 'High' 'no' 'yes' 53.0]\n",
            " [64.0 'High' 'yes' 'yes' 73.0]\n",
            " [61.0 'High' 'yes' 'yes' 76.0]\n",
            " [70.0 'Normal' 'no' 'yes' 88.0]\n",
            " [59.0 'High' 'yes' 'no' 68.0]\n",
            " [62.0 'High' 'yes' 'yes' 69.0]\n",
            " [78.0 'High' 'yes' 'yes' 71.0]\n",
            " [74.0 'High' 'yes' 'yes' 75.0]\n",
            " [75.0 'High' 'no' 'yes' 72.0]\n",
            " [56.0 'High' 'yes' 'no' 76.0]\n",
            " [80.0 'High' 'no' 'yes' 92.0]\n",
            " [82.0 'High' 'yes' 'yes' 73.0]\n",
            " [86.0 'High' 'yes' 'yes' 71.0]\n",
            " [90.0 'High' 'yes' 'yes' 67.0]\n",
            " [84.0 'High' 'yes' 'yes' 75.0]\n",
            " [86.0 'High' 'no' 'yes' 76.0]\n",
            " [61.0 'Moderate' 'no' 'yes' 90.0]\n",
            " [94.0 'High' 'yes' 'yes' 64.0]\n",
            " [81.0 'High' 'yes' 'yes' 75.0]\n",
            " [76.0 'High' 'yes' 'yes' 80.0]]\n"
          ]
        }
      ]
    },
    {
      "cell_type": "code",
      "source": [
        "print(y)"
      ],
      "metadata": {
        "colab": {
          "base_uri": "https://localhost:8080/"
        },
        "id": "NukYSkLCcwQj",
        "outputId": "08b02c4f-9d67-4456-b1bb-799e7f20dcad"
      },
      "execution_count": null,
      "outputs": [
        {
          "output_type": "stream",
          "name": "stdout",
          "text": [
            "['No' 'No' 'No' 'No' 'No' 'No' 'No' 'No' 'Yes' 'No' 'No' 'No' 'No' 'No'\n",
            " 'No' 'No' 'No' 'No' 'No' 'No' 'Yes' 'No' 'No' 'No' 'No' 'No' 'No' 'No'\n",
            " 'No' 'No' 'No' 'Yes' 'No' 'No' 'No' 'No' 'No' 'Yes' 'Yes' 'No' 'Yes'\n",
            " 'Yes' 'Yes' 'Yes' 'Yes' 'Yes' 'Yes' 'Yes' 'Yes' 'Yes' 'Yes' 'Yes' 'Yes'\n",
            " 'No' 'Yes' 'Yes' 'Yes' 'Yes' 'Yes' 'Yes' 'No' 'Yes' 'Yes' 'Yes' 'Yes'\n",
            " 'Yes' 'No' 'Yes' 'Yes' 'Yes']\n"
          ]
        }
      ]
    },
    {
      "cell_type": "code",
      "source": [
        "from sklearn.impute import SimpleImputer\n",
        "imputer = SimpleImputer(missing_values = np.nan, strategy = 'mean')\n",
        "\n",
        "imputer.fit(X[:, 0:1])\n",
        "X[: , 0:1] = imputer.transform(X[:, 0:1])"
      ],
      "metadata": {
        "id": "WwctIJC0dMWO"
      },
      "execution_count": null,
      "outputs": []
    },
    {
      "cell_type": "code",
      "source": [
        "print(y)"
      ],
      "metadata": {
        "id": "LHurTAjq51If",
        "colab": {
          "base_uri": "https://localhost:8080/"
        },
        "outputId": "7b1c7115-8b83-4f8c-86fa-e0c4a8ed01ef"
      },
      "execution_count": 8,
      "outputs": [
        {
          "output_type": "stream",
          "name": "stdout",
          "text": [
            "['No' 'No' 'No' 'No' 'No' 'No' 'No' 'No' 'Yes' 'No' 'No' 'No' 'No' 'No'\n",
            " 'No' 'No' 'No' 'No' 'No' 'No' 'Yes' 'No' 'No' 'No' 'No' 'No' 'No' 'No'\n",
            " 'No' 'No' 'No' 'Yes' 'No' 'No' 'No' 'No' 'No' 'Yes' 'Yes' 'No' 'Yes'\n",
            " 'Yes' 'Yes' 'Yes' 'Yes' 'Yes' 'Yes' 'Yes' 'Yes' 'Yes' 'Yes' 'Yes' 'Yes'\n",
            " 'No' 'Yes' 'Yes' 'Yes' 'Yes' 'Yes' 'Yes' 'No' 'Yes' 'Yes' 'Yes' 'Yes'\n",
            " 'Yes' 'No' 'Yes' 'Yes' 'Yes']\n"
          ]
        }
      ]
    },
    {
      "cell_type": "code",
      "source": [
        "from sklearn.model_selection import train_test_split\n",
        "X_train, X_test, y_train, y_test = train_test_split(X, y, test_size = 0.2, random_state = 42)"
      ],
      "metadata": {
        "id": "RRzPaN6W6c8F"
      },
      "execution_count": 9,
      "outputs": []
    },
    {
      "cell_type": "code",
      "source": [
        "print(X_train)"
      ],
      "metadata": {
        "colab": {
          "base_uri": "https://localhost:8080/"
        },
        "id": "DbkPwcDV7x7Q",
        "outputId": "593ab3a2-d751-4690-bac5-51c0ca6f1596"
      },
      "execution_count": 10,
      "outputs": [
        {
          "output_type": "stream",
          "name": "stdout",
          "text": [
            "[[46.0 'High' 'yes' 'no' 91.0]\n",
            " [62.0 'High' 'yes' 'yes' 69.0]\n",
            " [81.0 'High' 'yes' 'yes' 75.0]\n",
            " [86.0 'High' 'yes' 'yes' 71.0]\n",
            " [59.0 'High' 'no' 'yes' 69.0]\n",
            " [13.0 'Moderate' 'no' 'no' 94.0]\n",
            " [86.0 'High' 'no' 'yes' 76.0]\n",
            " [69.0 'High' 'no' 'yes' 53.0]\n",
            " [15.0 'Normal' 'no' 'no' 94.0]\n",
            " [52.0 'High' 'yes' 'yes' 80.0]\n",
            " [17.0 'Normal' 'no' 'no' 93.0]\n",
            " [10.0 'Normal' 'no' 'no' 97.0]\n",
            " [59.0 'High' 'yes' 'no' 68.0]\n",
            " [53.0 'High' 'yes' 'no' 55.0]\n",
            " [20.0 'Normal' 'no' 'no' 93.0]\n",
            " [56.0 'High' 'yes' 'yes' 77.0]\n",
            " [68.0 'High' 'yes' 'no' 67.0]\n",
            " [70.0 'Normal' 'no' 'yes' 88.0]\n",
            " [74.0 'High' 'yes' 'yes' 75.0]\n",
            " [40.0 'Moderate' 'no' 'yes' 90.0]\n",
            " [20.0 'Normal' 'no' 'no' 92.0]\n",
            " [94.0 'High' 'yes' 'yes' 64.0]\n",
            " [29.0 'Normal' 'no' 'no' 93.0]\n",
            " [32.0 'Moderate' 'no' 'no' 89.0]\n",
            " [61.0 'High' 'yes' 'yes' 76.0]\n",
            " [42.0 'High' 'no' 'no' 92.0]\n",
            " [28.0 'Normal' 'no' 'no' 99.0]\n",
            " [10.0 'Normal' 'no' 'no' 97.0]\n",
            " [25.0 'Moderate' 'no' 'no' 93.0]\n",
            " [12.0 'Moderate' 'no' 'no' 97.0]\n",
            " [24.0 'Moderate' 'no' 'no' 92.0]\n",
            " [30.0 'Moderate' 'no' 'no' 62.0]\n",
            " [61.0 'Moderate' 'no' 'yes' 90.0]\n",
            " [18.0 'Moderate' 'no' 'no' 66.0]\n",
            " [18.0 'Normal' 'no' 'no' 93.0]\n",
            " [30.0 'Moderate' 'yes' 'no' 86.0]\n",
            " [49.0 'Moderate' 'no' 'no' 80.0]\n",
            " [26.0 'High' 'no' 'no' 94.0]\n",
            " [80.0 'High' 'no' 'yes' 92.0]\n",
            " [54.0 'High' 'yes' 'yes' 70.0]\n",
            " [90.0 'High' 'yes' 'yes' 67.0]\n",
            " [36.0 'High' 'yes' 'no' 90.0]\n",
            " [50.0 'High' 'yes' 'yes' 77.0]\n",
            " [12.0 'Normal' 'no' 'no' 97.0]\n",
            " [75.0 'High' 'no' 'yes' 72.0]\n",
            " [16.0 'Normal' 'no' 'no' 92.0]\n",
            " [82.0 'High' 'yes' 'yes' 73.0]\n",
            " [28.0 'Normal' 'no' 'no' 89.0]\n",
            " [13.0 'Moderate' 'no' 'no' 93.0]\n",
            " [26.0 'Normal' 'no' 'no' nan]\n",
            " [40.0 'High' 'no' 'no' 92.0]\n",
            " [19.0 'Normal' 'no' 'no' 89.0]\n",
            " [19.0 'Normal' 'no' 'no' 92.0]\n",
            " [84.0 'High' 'yes' 'yes' 75.0]\n",
            " [62.0 'High' 'yes' 'yes' 68.0]\n",
            " [60.0 'High' 'yes' 'yes' 68.0]]\n"
          ]
        }
      ]
    },
    {
      "cell_type": "code",
      "source": [
        "print(X_test)"
      ],
      "metadata": {
        "colab": {
          "base_uri": "https://localhost:8080/"
        },
        "id": "26DUnCSm8MWm",
        "outputId": "2605bf6e-092e-4df1-8050-1315136fd233"
      },
      "execution_count": 11,
      "outputs": [
        {
          "output_type": "stream",
          "name": "stdout",
          "text": [
            "[[35.0 'Moderate' 'no' 'no' 89.0]\n",
            " [32.0 'Moderate' 'no' 'yes' 84.0]\n",
            " [63.0 'High' 'yes' 'yes' 66.0]\n",
            " [25.0 'Normal' 'no' 'yes' 86.0]\n",
            " [35.0 'Moderate' 'no' 'yes' 92.0]\n",
            " [64.0 'High' 'yes' 'yes' 73.0]\n",
            " [15.0 'Moderate' 'no' 'no' 92.0]\n",
            " [56.0 'High' 'yes' 'no' 76.0]\n",
            " [48.0 'Moderate' 'no' 'yes' 93.0]\n",
            " [76.0 'High' 'yes' 'yes' 80.0]\n",
            " [78.0 'High' 'yes' 'yes' 71.0]\n",
            " [45.130434782608695 'Moderate' 'yes' 'no' 90.0]\n",
            " [38.0 'High' 'no' 'no' 75.0]\n",
            " [58.0 'High' 'no' 'no' 70.0]]\n"
          ]
        }
      ]
    },
    {
      "cell_type": "code",
      "source": [
        "print(y_train)"
      ],
      "metadata": {
        "colab": {
          "base_uri": "https://localhost:8080/"
        },
        "id": "KUMHllaK8QB5",
        "outputId": "1b5586a1-5ea7-4f03-c94c-a7b902267989"
      },
      "execution_count": 12,
      "outputs": [
        {
          "output_type": "stream",
          "name": "stdout",
          "text": [
            "['No' 'Yes' 'Yes' 'Yes' 'Yes' 'No' 'Yes' 'Yes' 'No' 'Yes' 'No' 'No' 'Yes'\n",
            " 'Yes' 'No' 'Yes' 'Yes' 'No' 'Yes' 'No' 'No' 'Yes' 'No' 'No' 'Yes' 'No'\n",
            " 'No' 'No' 'No' 'No' 'No' 'Yes' 'No' 'Yes' 'No' 'No' 'Yes' 'No' 'No' 'Yes'\n",
            " 'Yes' 'No' 'Yes' 'No' 'Yes' 'No' 'Yes' 'No' 'No' 'No' 'No' 'No' 'No'\n",
            " 'Yes' 'Yes' 'Yes']\n"
          ]
        }
      ]
    },
    {
      "cell_type": "code",
      "source": [
        "print(y_test)"
      ],
      "metadata": {
        "colab": {
          "base_uri": "https://localhost:8080/"
        },
        "id": "1rF0AYHj8Tvu",
        "outputId": "b7bb33fd-9877-4cd9-8e50-f064ef4f0077"
      },
      "execution_count": 13,
      "outputs": [
        {
          "output_type": "stream",
          "name": "stdout",
          "text": [
            "['No' 'No' 'Yes' 'No' 'No' 'Yes' 'No' 'Yes' 'No' 'Yes' 'Yes' 'No' 'Yes'\n",
            " 'Yes']\n"
          ]
        }
      ]
    },
    {
      "cell_type": "code",
      "source": [
        "from sklearn.preprocessing import StandardScaler\n",
        "sc = StandardScaler()\n",
        "X_train[:, 4:] = sc.fit_transform(X_train[:, 4:])\n",
        "X_test[:, 4:] = sc.fit_transform(X_test[:, 4:])"
      ],
      "metadata": {
        "id": "0QRme4SW88Qb"
      },
      "execution_count": 24,
      "outputs": []
    },
    {
      "cell_type": "code",
      "source": [
        "print(X_train)"
      ],
      "metadata": {
        "colab": {
          "base_uri": "https://localhost:8080/"
        },
        "id": "sDQvnqPu_7mO",
        "outputId": "2f344a6c-2de0-4a82-828f-8f67c8b96aaa"
      },
      "execution_count": 25,
      "outputs": [
        {
          "output_type": "stream",
          "name": "stdout",
          "text": [
            "[[46.0 'High' 'yes' 'no' 0.7148584926436475]\n",
            " [62.0 'High' 'yes' 'yes' -1.090942710067864]\n",
            " [81.0 'High' 'yes' 'yes' -0.5984514729647246]\n",
            " [86.0 'High' 'yes' 'yes' -0.9267789643668175]\n",
            " [59.0 'High' 'no' 'yes' -1.090942710067864]\n",
            " [13.0 'Moderate' 'no' 'no' 0.9611041111952172]\n",
            " [86.0 'High' 'no' 'yes' -0.5163696001142013]\n",
            " [69.0 'High' 'no' 'yes' -2.404252675676236]\n",
            " [15.0 'Normal' 'no' 'no' 0.9611041111952172]\n",
            " [52.0 'High' 'yes' 'yes' -0.18804210871210825]\n",
            " [17.0 'Normal' 'no' 'no' 0.8790222383446941]\n",
            " [10.0 'Normal' 'no' 'no' 1.207349729746787]\n",
            " [59.0 'High' 'yes' 'no' -1.1730245829183872]\n",
            " [53.0 'High' 'yes' 'no' -2.2400889299751894]\n",
            " [20.0 'Normal' 'no' 'no' 0.8790222383446941]\n",
            " [56.0 'High' 'yes' 'yes' -0.43428772726367804]\n",
            " [68.0 'High' 'yes' 'no' -1.2551064557689104]\n",
            " [70.0 'Normal' 'no' 'yes' 0.46861287409207775]\n",
            " [74.0 'High' 'yes' 'yes' -0.5984514729647246]\n",
            " [40.0 'Moderate' 'no' 'yes' 0.6327766197931243]\n",
            " [20.0 'Normal' 'no' 'no' 0.7969403654941708]\n",
            " [94.0 'High' 'yes' 'yes' -1.5013520743204802]\n",
            " [29.0 'Normal' 'no' 'no' 0.8790222383446941]\n",
            " [32.0 'Moderate' 'no' 'no' 0.550694746942601]\n",
            " [61.0 'High' 'yes' 'yes' -0.5163696001142013]\n",
            " [42.0 'High' 'no' 'no' 0.7969403654941708]\n",
            " [28.0 'Normal' 'no' 'no' 1.3715134754478335]\n",
            " [10.0 'Normal' 'no' 'no' 1.207349729746787]\n",
            " [25.0 'Moderate' 'no' 'no' 0.8790222383446941]\n",
            " [12.0 'Moderate' 'no' 'no' 1.207349729746787]\n",
            " [24.0 'Moderate' 'no' 'no' 0.7969403654941708]\n",
            " [30.0 'Moderate' 'no' 'no' -1.6655158200215268]\n",
            " [61.0 'Moderate' 'no' 'yes' 0.6327766197931243]\n",
            " [18.0 'Moderate' 'no' 'no' -1.3371883286194337]\n",
            " [18.0 'Normal' 'no' 'no' 0.8790222383446941]\n",
            " [30.0 'Moderate' 'yes' 'no' 0.3044491283910313]\n",
            " [49.0 'Moderate' 'no' 'no' -0.18804210871210825]\n",
            " [26.0 'High' 'no' 'no' 0.9611041111952172]\n",
            " [80.0 'High' 'no' 'yes' 0.7969403654941708]\n",
            " [54.0 'High' 'yes' 'yes' -1.0088608372173409]\n",
            " [90.0 'High' 'yes' 'yes' -1.2551064557689104]\n",
            " [36.0 'High' 'yes' 'no' 0.6327766197931243]\n",
            " [50.0 'High' 'yes' 'yes' -0.43428772726367804]\n",
            " [12.0 'Normal' 'no' 'no' 1.207349729746787]\n",
            " [75.0 'High' 'no' 'yes' -0.8446970915162942]\n",
            " [16.0 'Normal' 'no' 'no' 0.7969403654941708]\n",
            " [82.0 'High' 'yes' 'yes' -0.762615218665771]\n",
            " [28.0 'Normal' 'no' 'no' 0.550694746942601]\n",
            " [13.0 'Moderate' 'no' 'no' 0.8790222383446941]\n",
            " [26.0 'Normal' 'no' 'no' nan]\n",
            " [40.0 'High' 'no' 'no' 0.7969403654941708]\n",
            " [19.0 'Normal' 'no' 'no' 0.550694746942601]\n",
            " [19.0 'Normal' 'no' 'no' 0.7969403654941708]\n",
            " [84.0 'High' 'yes' 'yes' -0.5984514729647246]\n",
            " [62.0 'High' 'yes' 'yes' -1.1730245829183872]\n",
            " [60.0 'High' 'yes' 'yes' -1.1730245829183872]]\n"
          ]
        }
      ]
    },
    {
      "cell_type": "markdown",
      "source": [],
      "metadata": {
        "id": "bNYDH3kD_1i-"
      }
    }
  ]
}